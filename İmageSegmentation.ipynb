{
 "cells": [
  {
   "cell_type": "markdown",
   "metadata": {},
   "source": [
    "#Rümeysa Sağlam\n",
    "#Medine Aktaş\n",
    "#Ramazan Nejdet Sarıkaya"
   ]
  },
  {
   "cell_type": "code",
   "execution_count": 1,
   "metadata": {},
   "outputs": [],
   "source": [
    "import preporcessing as pr\n",
    "import fuzzifier as fz\n",
    "import fuzzy_inferance_system as fis\n",
    "import defuzzifier as dfz\n",
    "from matplotlib import pyplot as plt"
   ]
  },
  {
   "cell_type": "code",
   "execution_count": 2,
   "metadata": {},
   "outputs": [],
   "source": [
    "from PIL import Image , ImageTk\n",
    "from tkinter import *\n",
    "from tkinter import filedialog\n",
    "from tkinter.ttk import Progressbar\n",
    "from tkinter import ttk\n",
    "from tkinter import messagebox"
   ]
  },
  {
   "cell_type": "code",
   "execution_count": 3,
   "metadata": {},
   "outputs": [],
   "source": [
    "def show_image(path,x,y):\n",
    "    from PIL import Image , ImageTk\n",
    "    canvas = Canvas(root, width = 300, height = 300,bg='#FFFFCC')\n",
    "    canvas.place(x=250,y=10)\n",
    "    load = Image.open(path)\n",
    "    load.thumbnail((300,300),Image.ANTIALIAS)\n",
    "    render = ImageTk.PhotoImage(load)\n",
    "    image = canvas.create_image(x, y, anchor = NW,image=render)\n",
    "    canvas.itemconfig(image, image = image)"
   ]
  },
  {
   "cell_type": "code",
   "execution_count": 4,
   "metadata": {},
   "outputs": [],
   "source": [
    "def read_image():\n",
    "    global X\n",
    "    global Y\n",
    "    global arr\n",
    "    root.filename =  filedialog.askopenfilename(initialdir = \"/home/necoo/Masaüstü\",title = \"Select file\",filetypes = ((\"jpeg files\",\"*.jpg\"),(\"all files\",\"*.*\")))\n",
    "    arr,X,Y = pr.read_image(root.filename)\n",
    "    plt.imshow(arr, cmap='gray')\n",
    "    plt.show()\n",
    "    show_image(root.filename,0,0)"
   ]
  },
  {
   "cell_type": "code",
   "execution_count": 5,
   "metadata": {},
   "outputs": [],
   "source": [
    "def image_processing():\n",
    "    print(bar['value'])\n",
    "    global means\n",
    "    global stds\n",
    "    bar['value'] = 10\n",
    "    bar.update()\n",
    "    mask = pr.mask3x3(arr,X,Y)\n",
    "    bar['value'] = 30\n",
    "    bar.update()\n",
    "    means, stds = pr.mean_std_value(mask,bar)\n",
    "    messagebox.showinfo('İmage Processing', 'Complete!')"
   ]
  },
  {
   "cell_type": "code",
   "execution_count": 6,
   "metadata": {},
   "outputs": [],
   "source": [
    "def mean_mf():\n",
    "    fz.draw_mean_mf()\n",
    "    show_image('mean.png',0,0)\n",
    "    \n",
    "def std_mf():\n",
    "    fz.draw_std_mf(max(stds),min(stds))\n",
    "    show_image('std.png',0,0)\n",
    "    \n",
    "def output_mf():\n",
    "    fz.draw_output_mf()\n",
    "    show_image('output.png',0,0)"
   ]
  },
  {
   "cell_type": "code",
   "execution_count": 7,
   "metadata": {},
   "outputs": [],
   "source": [
    "def fuzzy_inf_system():\n",
    "    global result\n",
    "    result = fis.fis(means,stds,X,Y,bar)\n",
    "    messagebox.showinfo('Fuzzy İnferance System', 'Complete!')"
   ]
  },
  {
   "cell_type": "code",
   "execution_count": 8,
   "metadata": {},
   "outputs": [],
   "source": [
    "def defuzzifier():\n",
    "    final_image = dfz.center_average(result,X,Y,bar)\n",
    "    show_image('output.jpg',0,0)\n",
    "#     plt.imshow(final_image, cmap='gray')\n",
    "#     plt.show()"
   ]
  },
  {
   "cell_type": "code",
   "execution_count": null,
   "metadata": {},
   "outputs": [
    {
     "name": "stderr",
     "output_type": "stream",
     "text": [
      "Exception in Tkinter callback\n",
      "Traceback (most recent call last):\n",
      "  File \"C:\\Users\\NECOO\\Anaconda3\\lib\\tkinter\\__init__.py\", line 1705, in __call__\n",
      "    return self.func(*args)\n",
      "  File \"<ipython-input-10-1f98c8573f73>\", line 16, in <lambda>\n",
      "    but1 = Button(root, text=\"read_image\", height=1, width=15,bg='#33FFFF',command=lambda:read_image())\n",
      "  File \"<ipython-input-4-c906afe7fba4>\", line 6, in read_image\n",
      "    arr,X,Y = pr.read_image(root.filename)\n",
      "  File \"C:\\Users\\NECOO\\Desktop\\dersler\\bulanık mantık\\FuzzySegmentation\\preporcessing.py\", line 7, in read_image\n",
      "    gray_img = cv.cvtColor(img, cv.COLOR_RGB2GRAY)\n",
      "cv2.error: OpenCV(4.1.0) C:\\projects\\opencv-python\\opencv\\modules\\imgproc\\src\\color.cpp:182: error: (-215:Assertion failed) !_src.empty() in function 'cv::cvtColor'\n",
      "\n"
     ]
    }
   ],
   "source": [
    "root = Tk()\n",
    "root.geometry(\"800x500\")\n",
    "root.configure(bg='#FFFFCC')\n",
    "\n",
    "style = ttk.Style()\n",
    "style.theme_use('clam')\n",
    "style.configure(\"black.Horizontal.TProgressbar\", background='black')\n",
    "bar = Progressbar(root, length=780, style='black.Horizontal.TProgressbar',maximum=100)\n",
    "bar['value'] = 0\n",
    "bar.grid(column=0, row=0)\n",
    "bar.place(x=10,y=365)\n",
    "\n",
    "canvas1 = Canvas(root, width = 300, height = 300,bg='red')\n",
    "canvas1.place(x=250,y=10)\n",
    "\n",
    "but1 = Button(root, text=\"read_image\", height=1, width=15,bg='#33FFFF',command=lambda:read_image())\n",
    "but1.place(x=10, y=425)\n",
    "but2 = Button(root, text=\"image_processing\",height=1, width=15 ,bg='#33FF99', command=lambda:image_processing())\n",
    "but2.place(x=140, y=425)\n",
    "but3 = Button(root, text=\"mean\", height=1, width=5 ,bg='#CCFF99',command=lambda:mean_mf())\n",
    "but3.place(x=300, y=425)\n",
    "but4 = Button(root, text=\"std\", height=1, width=5 ,bg='#CCFF99',command=lambda:std_mf())\n",
    "but4.place(x=370, y=425)\n",
    "but5 = Button(root, text=\"output\",height=1, width=5 ,bg='#CCFF99',command=lambda:output_mf())\n",
    "but5.place(x=440, y=425)\n",
    "but6 = Button(root, text=\"fuzzy_inferance_system\", height=1, width=15 ,bg='#33FF99',command=lambda:fuzzy_inf_system())\n",
    "but6.place(x=525, y=425)\n",
    "but7 = Button(root, text=\"defuzzifier\", height=1, width=15 ,bg='#33FFFF',command=lambda:defuzzifier())\n",
    "but7.place(x=655, y=425)\n",
    "\n",
    "\n",
    "\n",
    "root.mainloop()"
   ]
  },
  {
   "cell_type": "code",
   "execution_count": null,
   "metadata": {},
   "outputs": [],
   "source": []
  }
 ],
 "metadata": {
  "kernelspec": {
   "display_name": "Python 3",
   "language": "python",
   "name": "python3"
  },
  "language_info": {
   "codemirror_mode": {
    "name": "ipython",
    "version": 3
   },
   "file_extension": ".py",
   "mimetype": "text/x-python",
   "name": "python",
   "nbconvert_exporter": "python",
   "pygments_lexer": "ipython3",
   "version": "3.7.3"
  }
 },
 "nbformat": 4,
 "nbformat_minor": 2
}
